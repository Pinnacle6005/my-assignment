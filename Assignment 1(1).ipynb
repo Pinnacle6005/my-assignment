{
 "cells": [
  {
   "cell_type": "code",
   "execution_count": 39,
   "metadata": {},
   "outputs": [
    {
     "name": "stdout",
     "output_type": "stream",
     "text": [
      "1001\n",
      "1008\n",
      "1022\n",
      "1029\n",
      "1036\n",
      "1043\n",
      "1057\n",
      "1064\n",
      "1071\n",
      "1078\n",
      "1092\n",
      "1099\n",
      "1106\n",
      "1113\n",
      "1127\n",
      "1134\n",
      "1141\n",
      "1148\n",
      "1162\n",
      "1169\n",
      "1176\n",
      "1183\n",
      "1197\n",
      "1204\n",
      "1211\n",
      "1218\n",
      "1232\n",
      "1239\n",
      "1246\n",
      "1253\n",
      "1267\n",
      "1274\n",
      "1281\n",
      "1288\n",
      "1302\n",
      "1309\n",
      "1316\n",
      "1323\n",
      "1337\n",
      "1344\n",
      "1351\n",
      "1358\n",
      "1372\n",
      "1379\n",
      "1386\n",
      "1393\n",
      "1407\n",
      "1414\n",
      "1421\n",
      "1428\n",
      "1442\n",
      "1449\n",
      "1456\n",
      "1463\n",
      "1477\n",
      "1484\n",
      "1491\n",
      "1498\n",
      "1512\n",
      "1519\n",
      "1526\n",
      "1533\n",
      "1547\n",
      "1554\n",
      "1561\n",
      "1568\n",
      "1582\n",
      "1589\n",
      "1596\n",
      "1603\n",
      "1617\n",
      "1624\n",
      "1631\n",
      "1638\n",
      "1652\n",
      "1659\n",
      "1666\n",
      "1673\n",
      "1687\n",
      "1694\n",
      "1701\n",
      "1708\n",
      "1722\n",
      "1729\n",
      "1736\n",
      "1743\n",
      "1757\n",
      "1764\n",
      "1771\n",
      "1778\n",
      "1792\n",
      "1799\n",
      "1806\n",
      "1813\n",
      "1827\n",
      "1834\n",
      "1841\n",
      "1848\n",
      "1862\n",
      "1869\n",
      "1876\n",
      "1883\n",
      "1897\n",
      "1904\n",
      "1911\n",
      "1918\n",
      "1932\n",
      "1939\n",
      "1946\n",
      "1953\n",
      "1967\n",
      "1974\n",
      "1981\n",
      "1988\n",
      "2002\n",
      "2009\n",
      "2016\n",
      "2023\n",
      "2037\n",
      "2044\n",
      "2051\n",
      "2058\n",
      "2072\n",
      "2079\n",
      "2086\n",
      "2093\n",
      "2107\n",
      "2114\n",
      "2121\n",
      "2128\n",
      "2142\n",
      "2149\n",
      "2156\n",
      "2163\n",
      "2177\n",
      "2184\n",
      "2191\n",
      "2198\n"
     ]
    }
   ],
   "source": [
    "seun = []\n",
    "for x in range (1000,2200):\n",
    " if (x%7==0) and(x%5!=0):\n",
    "    seun.append(str(x))\n",
    "    print (x)"
   ]
  },
  {
   "cell_type": "code",
   "execution_count": 64,
   "metadata": {},
   "outputs": [
    {
     "name": "stdout",
     "output_type": "stream",
     "text": [
      "Enter your first name: Seun\n",
      "Enter your last name: Sotayo\n"
     ]
    },
    {
     "data": {
      "text/plain": [
       "('Seun', 'Sotayo')"
      ]
     },
     "execution_count": 64,
     "metadata": {},
     "output_type": "execute_result"
    }
   ],
   "source": [
    "#Write a Python program to accept the user's first and last name and then getting them printed in the reverse order \n",
    "#with a space between first name and last name\n",
    "def info(name):\n",
    "    first = input(\"Enter your first name: \")\n",
    "    surname = input(\"Enter your last name: \")\n",
    "    return first, surname\n",
    "info('info')\n"
   ]
  },
  {
   "cell_type": "code",
   "execution_count": 2,
   "metadata": {},
   "outputs": [
    {
     "name": "stdout",
     "output_type": "stream",
     "text": [
      "oyatoS nueS\n"
     ]
    }
   ],
   "source": [
    "user = ('Seun Sotayo')\n",
    "len('Seun Sotayo')\n",
    "print ('Seun Sotayo'[::-1])"
   ]
  },
  {
   "cell_type": "code",
   "execution_count": 8,
   "metadata": {},
   "outputs": [
    {
     "data": {
      "text/plain": [
       "1"
      ]
     },
     "execution_count": 8,
     "metadata": {},
     "output_type": "execute_result"
    }
   ],
   "source": [
    "#Write a program to take ten numbers from a user and display the minimum, mean, and maximum of the non-even numbers.\n",
    "User=(1,2,3,4,5,6,7,8,9,10)\n",
    "min(User)\n"
   ]
  },
  {
   "cell_type": "code",
   "execution_count": 7,
   "metadata": {},
   "outputs": [
    {
     "data": {
      "text/plain": [
       "10"
      ]
     },
     "execution_count": 7,
     "metadata": {},
     "output_type": "execute_result"
    }
   ],
   "source": [
    "max(User)"
   ]
  },
  {
   "cell_type": "code",
   "execution_count": 15,
   "metadata": {},
   "outputs": [
    {
     "data": {
      "text/plain": [
       "<function statistics.mean(data)>"
      ]
     },
     "execution_count": 15,
     "metadata": {},
     "output_type": "execute_result"
    }
   ],
   "source": [
    "from statistics import mean \n",
    "  \n",
    "def Average(Unit): \n",
    "    return mean(Unit) \n",
    "mean"
   ]
  },
  {
   "cell_type": "code",
   "execution_count": 16,
   "metadata": {},
   "outputs": [
    {
     "data": {
      "text/plain": [
       "5.5"
      ]
     },
     "execution_count": 16,
     "metadata": {},
     "output_type": "execute_result"
    }
   ],
   "source": [
    "def my_mean(Unit):\n",
    "     return sum(Unit) / len(Unit)\n",
    "\n",
    "my_mean([1,2,3,4,5,6,7,8,9,10])"
   ]
  },
  {
   "cell_type": "code",
   "execution_count": 25,
   "metadata": {},
   "outputs": [
    {
     "name": "stdout",
     "output_type": "stream",
     "text": [
      "1 3 5 7 9 "
     ]
    }
   ],
   "source": [
    "Unit = [1,2,3,4,5,6,7,8,9,10] \n",
    "for num in Unit:  \n",
    "    if num % 2 != 0: \n",
    "       print(num, end = \" \") "
   ]
  }
 ],
 "metadata": {
  "kernelspec": {
   "display_name": "Python 3",
   "language": "python",
   "name": "python3"
  },
  "language_info": {
   "codemirror_mode": {
    "name": "ipython",
    "version": 3
   },
   "file_extension": ".py",
   "mimetype": "text/x-python",
   "name": "python",
   "nbconvert_exporter": "python",
   "pygments_lexer": "ipython3",
   "version": "3.7.6"
  }
 },
 "nbformat": 4,
 "nbformat_minor": 4
}
